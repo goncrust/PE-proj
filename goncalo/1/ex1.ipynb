{
 "cells": [
  {
   "cell_type": "markdown",
   "metadata": {},
   "source": [
    "No ficheiro de dados econ.xlsx encontra informação relativa a dados económicos dos Estados Unidos providenciados pela empresa [FRED](https://fred.stlouisfed.org/). Este conjunto de dados possui as seguintes variáveis: tempo (Data do registo); gcp (gastos de consumo pessoal, em biliões de dólares); pop (população total); tpp (taxa de poupança pessoal); ddesemp (duração mediana do desemprego, em semanas); ndesemp (número de desempregados, em milhares).\n",
    "\n",
    "Considere as variáveis $X_1=ddesemp$ e $X_2=gcp$ para os anos superiores ou iguais a 1974. Com recurso ao pacote $ggplot$ produza um único gráfico que lhe permita fazer uma análise da evolução dessas duas variáveis para esses anos.\n",
    "\n",
    "Uma vez que as variáveis podem não ter a mesma escala, antes de construir o gráfico proceda do seguinte modo:\n",
    "\n",
    "- Selecione os dados a usar.\n",
    "- Faça a seguinte transformação aos dados associados a cada variável $$ X_k : z_{ik} = \\frac{x_{ik} − \\overline{x}_{k}}{sx_k},i=1,2,…,n, $$\n",
    "\n",
    "onde $n$ é a dimensão da amostra, $\\overline{x}_k$ e $sx_k$ correspondem, respectivamente, à média e desvio-padrão da amostra associada à variável $X_k$.\n",
    "\n",
    "Submeta um ficheiro em formato PDF, com uma única página A4, que inclua:\n",
    "\n",
    "- O código em R.\n",
    "    Nota: no código devem também constar os comandos para leitura e seleção dos dados do ficheiro.\n",
    "- O gráfico que achar mais adequado para analisar a evolução dessas variáveis nesse período de tempo.\n"
   ]
  },
  {
   "cell_type": "markdown",
   "metadata": {},
   "source": []
  }
 ],
 "metadata": {
  "kernelspec": {
   "display_name": "Python 3.10.10 64-bit",
   "language": "python",
   "name": "python3"
  },
  "language_info": {
   "name": "python",
   "version": "3.10.10"
  },
  "orig_nbformat": 4,
  "vscode": {
   "interpreter": {
    "hash": "e7370f93d1d0cde622a1f8e1c04877d8463912d04d973331ad4851f04de6915a"
   }
  }
 },
 "nbformat": 4,
 "nbformat_minor": 2
}
